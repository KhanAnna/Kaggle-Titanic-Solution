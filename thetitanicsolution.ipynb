{
 "cells": [
  {
   "cell_type": "code",
   "execution_count": 1,
   "id": "6ea0dc7f",
   "metadata": {
    "_cell_guid": "b1076dfc-b9ad-4769-8c92-a6c4dae69d19",
    "_uuid": "8f2839f25d086af736a60e9eeb907d3b93b6e0e5",
    "execution": {
     "iopub.execute_input": "2021-12-20T11:25:33.760078Z",
     "iopub.status.busy": "2021-12-20T11:25:33.759190Z",
     "iopub.status.idle": "2021-12-20T11:25:33.801199Z",
     "shell.execute_reply": "2021-12-20T11:25:33.800475Z",
     "shell.execute_reply.started": "2021-12-20T10:48:36.123134Z"
    },
    "papermill": {
     "duration": 0.062288,
     "end_time": "2021-12-20T11:25:33.801364",
     "exception": false,
     "start_time": "2021-12-20T11:25:33.739076",
     "status": "completed"
    },
    "tags": []
   },
   "outputs": [
    {
     "data": {
      "text/plain": [
       "PassengerId      0\n",
       "Survived         0\n",
       "Pclass           0\n",
       "Name             0\n",
       "Sex              0\n",
       "Age            177\n",
       "SibSp            0\n",
       "Parch            0\n",
       "Ticket           0\n",
       "Fare             0\n",
       "Cabin          687\n",
       "Embarked         2\n",
       "dtype: int64"
      ]
     },
     "execution_count": 1,
     "metadata": {},
     "output_type": "execute_result"
    }
   ],
   "source": [
    "import pandas as pd\n",
    "train_data = pd.read_csv('/kaggle/input/titanic/train.csv')\n",
    "test_data = pd.read_csv('/kaggle/input/titanic/test.csv')\n",
    "train_data.isnull().sum()"
   ]
  },
  {
   "cell_type": "code",
   "execution_count": 2,
   "id": "fc64c91c",
   "metadata": {
    "execution": {
     "iopub.execute_input": "2021-12-20T11:25:33.827772Z",
     "iopub.status.busy": "2021-12-20T11:25:33.827010Z",
     "iopub.status.idle": "2021-12-20T11:25:35.028090Z",
     "shell.execute_reply": "2021-12-20T11:25:35.027326Z",
     "shell.execute_reply.started": "2021-12-20T10:48:36.150335Z"
    },
    "papermill": {
     "duration": 1.215995,
     "end_time": "2021-12-20T11:25:35.028239",
     "exception": false,
     "start_time": "2021-12-20T11:25:33.812244",
     "status": "completed"
    },
    "tags": []
   },
   "outputs": [
    {
     "data": {
      "text/plain": [
       "<AxesSubplot:xlabel='Survived', ylabel='count'>"
      ]
     },
     "execution_count": 2,
     "metadata": {},
     "output_type": "execute_result"
    },
    {
     "data": {
      "image/png": "[encoded data removed]",
      "text/plain": [
       "<Figure size 432x288 with 1 Axes>"
      ]
     },
     "metadata": {
      "needs_background": "light"
     },
     "output_type": "display_data"
    }
   ],
   "source": [
    "import matplotlib.pyplot as plt\n",
    "import seaborn as sns\n",
    "%matplotlib inline\n",
    "sns.countplot(x='Survived', data=train_data)"
   ]
  },
  {
   "cell_type": "code",
   "execution_count": 3,
   "id": "1a65becb",
   "metadata": {
    "execution": {
     "iopub.execute_input": "2021-12-20T11:25:35.058058Z",
     "iopub.status.busy": "2021-12-20T11:25:35.057061Z",
     "iopub.status.idle": "2021-12-20T11:25:35.274279Z",
     "shell.execute_reply": "2021-12-20T11:25:35.275032Z",
     "shell.execute_reply.started": "2021-12-20T10:48:36.353303Z"
    },
    "papermill": {
     "duration": 0.234758,
     "end_time": "2021-12-20T11:25:35.275262",
     "exception": false,
     "start_time": "2021-12-20T11:25:35.040504",
     "status": "completed"
    },
    "tags": []
   },
   "outputs": [
    {
     "data": {
      "text/plain": [
       "<AxesSubplot:xlabel='Survived', ylabel='count'>"
      ]
     },
     "execution_count": 3,
     "metadata": {},
     "output_type": "execute_result"
    },
    {
     "data": {
      "image/png": "[encoded data removed]",
      "text/plain": [
       "<Figure size 432x288 with 1 Axes>"
      ]
     },
     "metadata": {
      "needs_background": "light"
     },
     "output_type": "display_data"
    }
   ],
   "source": [
    "sns.countplot(x='Survived', hue='Sex', data=train_data)"
   ]
  },
  {
   "cell_type": "code",
   "execution_count": 4,
   "id": "ae8953e9",
   "metadata": {
    "execution": {
     "iopub.execute_input": "2021-12-20T11:25:35.316457Z",
     "iopub.status.busy": "2021-12-20T11:25:35.315523Z",
     "iopub.status.idle": "2021-12-20T11:25:35.547004Z",
     "shell.execute_reply": "2021-12-20T11:25:35.547783Z",
     "shell.execute_reply.started": "2021-12-20T10:48:36.58531Z"
    },
    "papermill": {
     "duration": 0.254992,
     "end_time": "2021-12-20T11:25:35.548038",
     "exception": false,
     "start_time": "2021-12-20T11:25:35.293046",
     "status": "completed"
    },
    "tags": []
   },
   "outputs": [
    {
     "data": {
      "text/plain": [
       "<AxesSubplot:xlabel='Survived', ylabel='count'>"
      ]
     },
     "execution_count": 4,
     "metadata": {},
     "output_type": "execute_result"
    },
    {
     "data": {
      "image/png": "[encoded data removed]",
      "text/plain": [
       "<Figure size 432x288 with 1 Axes>"
      ]
     },
     "metadata": {
      "needs_background": "light"
     },
     "output_type": "display_data"
    }
   ],
   "source": [
    "sns.countplot(x='Survived', hue='Pclass', data=train_data) "
   ]
  },
  {
   "cell_type": "code",
   "execution_count": 5,
   "id": "d39010ab",
   "metadata": {
    "execution": {
     "iopub.execute_input": "2021-12-20T11:25:35.577504Z",
     "iopub.status.busy": "2021-12-20T11:25:35.576745Z",
     "iopub.status.idle": "2021-12-20T11:25:35.872942Z",
     "shell.execute_reply": "2021-12-20T11:25:35.873503Z",
     "shell.execute_reply.started": "2021-12-20T10:48:36.851285Z"
    },
    "papermill": {
     "duration": 0.312649,
     "end_time": "2021-12-20T11:25:35.873685",
     "exception": false,
     "start_time": "2021-12-20T11:25:35.561036",
     "status": "completed"
    },
    "tags": []
   },
   "outputs": [
    {
     "data": {
      "text/plain": [
       "<AxesSubplot:xlabel='Survived', ylabel='count'>"
      ]
     },
     "execution_count": 5,
     "metadata": {},
     "output_type": "execute_result"
    },
    {
     "data": {
      "image/png": "[encoded data removed]",
      "text/plain": [
       "<Figure size 432x288 with 1 Axes>"
      ]
     },
     "metadata": {
      "needs_background": "light"
     },
     "output_type": "display_data"
    }
   ],
   "source": [
    "sns.countplot(x='Survived', hue='SibSp', data=train_data) "
   ]
  },
  {
   "cell_type": "code",
   "execution_count": 6,
   "id": "873850a8",
   "metadata": {
    "execution": {
     "iopub.execute_input": "2021-12-20T11:25:35.908754Z",
     "iopub.status.busy": "2021-12-20T11:25:35.906962Z",
     "iopub.status.idle": "2021-12-20T11:25:36.183121Z",
     "shell.execute_reply": "2021-12-20T11:25:36.183666Z",
     "shell.execute_reply.started": "2021-12-20T10:48:37.194744Z"
    },
    "papermill": {
     "duration": 0.295462,
     "end_time": "2021-12-20T11:25:36.183833",
     "exception": false,
     "start_time": "2021-12-20T11:25:35.888371",
     "status": "completed"
    },
    "tags": []
   },
   "outputs": [
    {
     "data": {
      "text/plain": [
       "<AxesSubplot:xlabel='Survived', ylabel='count'>"
      ]
     },
     "execution_count": 6,
     "metadata": {},
     "output_type": "execute_result"
    },
    {
     "data": {
      "image/png": "[encoded data removed]",
      "text/plain": [
       "<Figure size 432x288 with 1 Axes>"
      ]
     },
     "metadata": {
      "needs_background": "light"
     },
     "output_type": "display_data"
    }
   ],
   "source": [
    "sns.countplot(x='Survived', hue='Parch', data=train_data) "
   ]
  },
  {
   "cell_type": "code",
   "execution_count": 7,
   "id": "7a6d0bf8",
   "metadata": {
    "execution": {
     "iopub.execute_input": "2021-12-20T11:25:36.219984Z",
     "iopub.status.busy": "2021-12-20T11:25:36.219314Z",
     "iopub.status.idle": "2021-12-20T11:25:36.523078Z",
     "shell.execute_reply": "2021-12-20T11:25:36.522474Z",
     "shell.execute_reply.started": "2021-12-20T10:48:37.523355Z"
    },
    "papermill": {
     "duration": 0.324773,
     "end_time": "2021-12-20T11:25:36.523227",
     "exception": false,
     "start_time": "2021-12-20T11:25:36.198454",
     "status": "completed"
    },
    "tags": []
   },
   "outputs": [
    {
     "data": {
      "text/plain": [
       "<AxesSubplot:xlabel='Survived', ylabel='count'>"
      ]
     },
     "execution_count": 7,
     "metadata": {},
     "output_type": "execute_result"
    },
    {
     "data": {
      "image/png": "[encoded data removed]",
      "text/plain": [
       "<Figure size 432x288 with 1 Axes>"
      ]
     },
     "metadata": {
      "needs_background": "light"
     },
     "output_type": "display_data"
    }
   ],
   "source": [
    "\n",
    "train_data['Family'] = train_data.Parch + train_data.SibSp\n",
    "sns.countplot(x='Survived', hue='Family', data=train_data) "
   ]
  },
  {
   "cell_type": "code",
   "execution_count": 8,
   "id": "5c66d28a",
   "metadata": {
    "execution": {
     "iopub.execute_input": "2021-12-20T11:25:36.562314Z",
     "iopub.status.busy": "2021-12-20T11:25:36.561414Z",
     "iopub.status.idle": "2021-12-20T11:25:36.576254Z",
     "shell.execute_reply": "2021-12-20T11:25:36.575587Z",
     "shell.execute_reply.started": "2021-12-20T10:48:37.908231Z"
    },
    "papermill": {
     "duration": 0.037354,
     "end_time": "2021-12-20T11:25:36.576393",
     "exception": false,
     "start_time": "2021-12-20T11:25:36.539039",
     "status": "completed"
    },
    "tags": []
   },
   "outputs": [],
   "source": [
    "features = ['Sex', 'Pclass', 'SibSp', 'Parch']\n",
    "y = train_data['Survived']\n",
    "X = pd.get_dummies(train_data[features])\n",
    "X_test = pd.get_dummies(test_data[features])"
   ]
  },
  {
   "cell_type": "code",
   "execution_count": 9,
   "id": "f179b72d",
   "metadata": {
    "execution": {
     "iopub.execute_input": "2021-12-20T11:25:36.613962Z",
     "iopub.status.busy": "2021-12-20T11:25:36.610853Z",
     "iopub.status.idle": "2021-12-20T11:25:37.163309Z",
     "shell.execute_reply": "2021-12-20T11:25:37.162197Z",
     "shell.execute_reply.started": "2021-12-20T10:48:37.931311Z"
    },
    "papermill": {
     "duration": 0.571478,
     "end_time": "2021-12-20T11:25:37.163459",
     "exception": false,
     "start_time": "2021-12-20T11:25:36.591981",
     "status": "completed"
    },
    "tags": []
   },
   "outputs": [],
   "source": [
    "from sklearn.ensemble import RandomForestClassifier\n",
    "model = RandomForestClassifier(n_estimators=100, max_depth=8)\n",
    "model.fit(X, y)  # обучаем модель\n",
    "prediction = model.predict(X_test)  # делаем предсказание\n",
    "output = pd.DataFrame({'PassengerId':test_data.PassengerId, 'Survived':prediction})\n",
    "output.to_csv('my_submission.csv', index=False)  # формируем итоговый датафрейм и сохраняем его в csv файл"
   ]
  },
  {
   "cell_type": "code",
   "execution_count": null,
   "id": "1cea253b",
   "metadata": {
    "papermill": {
     "duration": 0.015409,
     "end_time": "2021-12-20T11:25:37.194720",
     "exception": false,
     "start_time": "2021-12-20T11:25:37.179311",
     "status": "completed"
    },
    "tags": []
   },
   "outputs": [],
   "source": []
  }
 ],
 "metadata": {
  "kernelspec": {
   "display_name": "Python 3",
   "language": "python",
   "name": "python3"
  },
  "language_info": {
   "codemirror_mode": {
    "name": "ipython",
    "version": 3
   },
   "file_extension": ".py",
   "mimetype": "text/x-python",
   "name": "python",
   "nbconvert_exporter": "python",
   "pygments_lexer": "ipython3",
   "version": "3.7.12"
  },
  "papermill": {
   "default_parameters": {},
   "duration": 13.975514,
   "end_time": "2021-12-20T11:25:37.920467",
   "environment_variables": {},
   "exception": null,
   "input_path": "__notebook__.ipynb",
   "output_path": "__notebook__.ipynb",
   "parameters": {},
   "start_time": "2021-12-20T11:25:23.944953",
   "version": "2.3.3"
  }
 },
 "nbformat": 4,
 "nbformat_minor": 5
}
